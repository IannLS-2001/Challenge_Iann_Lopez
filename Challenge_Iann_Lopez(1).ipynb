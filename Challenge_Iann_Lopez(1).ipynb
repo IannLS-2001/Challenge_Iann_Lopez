{
  "nbformat": 4,
  "nbformat_minor": 0,
  "metadata": {
    "colab": {
      "provenance": []
    },
    "kernelspec": {
      "name": "python3",
      "display_name": "Python 3"
    },
    "language_info": {
      "name": "python"
    }
  },
  "cells": [
    {
      "cell_type": "markdown",
      "source": [
        "### Importación de datos\n",
        "\n"
      ],
      "metadata": {
        "id": "RhEdWd9YUR6H"
      }
    },
    {
      "cell_type": "code",
      "execution_count": 1,
      "metadata": {
        "colab": {
          "base_uri": "https://localhost:8080/",
          "height": 206
        },
        "id": "T3EvaeQ_INIL",
        "outputId": "4a8560aa-bac7-44f0-c039-bc8ed8cce0b1"
      },
      "outputs": [
        {
          "output_type": "execute_result",
          "data": {
            "text/plain": [
              "            Producto Categoría del Producto    Precio  Costo de envío  \\\n",
              "0  Asistente virtual           Electrónicos  164300.0          6900.0   \n",
              "1    Mesa de comedor                Muebles  192300.0          8400.0   \n",
              "2      Juego de mesa               Juguetes  209600.0         15900.0   \n",
              "3         Microondas      Electrodomésticos  757500.0         41000.0   \n",
              "4   Silla de oficina                Muebles  335200.0         20200.0   \n",
              "\n",
              "  Fecha de Compra         Vendedor Lugar de Compra  Calificación  \\\n",
              "0      16/01/2021      Pedro Gomez          Bogotá             4   \n",
              "1      18/05/2022  Beatriz Morales        Medellín             1   \n",
              "2      15/03/2021   Juan Fernandez       Cartagena             1   \n",
              "3      03/05/2022   Juan Fernandez            Cali             4   \n",
              "4      07/11/2020    Maria Alfonso        Medellín             5   \n",
              "\n",
              "       Método de pago  Cantidad de cuotas       lat       lon  \n",
              "0  Tarjeta de crédito                   8   4.60971 -74.08175  \n",
              "1  Tarjeta de crédito                   4   6.25184 -75.56359  \n",
              "2  Tarjeta de crédito                   1  10.39972 -75.51444  \n",
              "3               Nequi                   1   3.43722 -76.52250  \n",
              "4               Nequi                   1   6.25184 -75.56359  "
            ],
            "text/html": [
              "\n",
              "  <div id=\"df-84b4e284-b61f-478b-8289-5718665135ed\" class=\"colab-df-container\">\n",
              "    <div>\n",
              "<style scoped>\n",
              "    .dataframe tbody tr th:only-of-type {\n",
              "        vertical-align: middle;\n",
              "    }\n",
              "\n",
              "    .dataframe tbody tr th {\n",
              "        vertical-align: top;\n",
              "    }\n",
              "\n",
              "    .dataframe thead th {\n",
              "        text-align: right;\n",
              "    }\n",
              "</style>\n",
              "<table border=\"1\" class=\"dataframe\">\n",
              "  <thead>\n",
              "    <tr style=\"text-align: right;\">\n",
              "      <th></th>\n",
              "      <th>Producto</th>\n",
              "      <th>Categoría del Producto</th>\n",
              "      <th>Precio</th>\n",
              "      <th>Costo de envío</th>\n",
              "      <th>Fecha de Compra</th>\n",
              "      <th>Vendedor</th>\n",
              "      <th>Lugar de Compra</th>\n",
              "      <th>Calificación</th>\n",
              "      <th>Método de pago</th>\n",
              "      <th>Cantidad de cuotas</th>\n",
              "      <th>lat</th>\n",
              "      <th>lon</th>\n",
              "    </tr>\n",
              "  </thead>\n",
              "  <tbody>\n",
              "    <tr>\n",
              "      <th>0</th>\n",
              "      <td>Asistente virtual</td>\n",
              "      <td>Electrónicos</td>\n",
              "      <td>164300.0</td>\n",
              "      <td>6900.0</td>\n",
              "      <td>16/01/2021</td>\n",
              "      <td>Pedro Gomez</td>\n",
              "      <td>Bogotá</td>\n",
              "      <td>4</td>\n",
              "      <td>Tarjeta de crédito</td>\n",
              "      <td>8</td>\n",
              "      <td>4.60971</td>\n",
              "      <td>-74.08175</td>\n",
              "    </tr>\n",
              "    <tr>\n",
              "      <th>1</th>\n",
              "      <td>Mesa de comedor</td>\n",
              "      <td>Muebles</td>\n",
              "      <td>192300.0</td>\n",
              "      <td>8400.0</td>\n",
              "      <td>18/05/2022</td>\n",
              "      <td>Beatriz Morales</td>\n",
              "      <td>Medellín</td>\n",
              "      <td>1</td>\n",
              "      <td>Tarjeta de crédito</td>\n",
              "      <td>4</td>\n",
              "      <td>6.25184</td>\n",
              "      <td>-75.56359</td>\n",
              "    </tr>\n",
              "    <tr>\n",
              "      <th>2</th>\n",
              "      <td>Juego de mesa</td>\n",
              "      <td>Juguetes</td>\n",
              "      <td>209600.0</td>\n",
              "      <td>15900.0</td>\n",
              "      <td>15/03/2021</td>\n",
              "      <td>Juan Fernandez</td>\n",
              "      <td>Cartagena</td>\n",
              "      <td>1</td>\n",
              "      <td>Tarjeta de crédito</td>\n",
              "      <td>1</td>\n",
              "      <td>10.39972</td>\n",
              "      <td>-75.51444</td>\n",
              "    </tr>\n",
              "    <tr>\n",
              "      <th>3</th>\n",
              "      <td>Microondas</td>\n",
              "      <td>Electrodomésticos</td>\n",
              "      <td>757500.0</td>\n",
              "      <td>41000.0</td>\n",
              "      <td>03/05/2022</td>\n",
              "      <td>Juan Fernandez</td>\n",
              "      <td>Cali</td>\n",
              "      <td>4</td>\n",
              "      <td>Nequi</td>\n",
              "      <td>1</td>\n",
              "      <td>3.43722</td>\n",
              "      <td>-76.52250</td>\n",
              "    </tr>\n",
              "    <tr>\n",
              "      <th>4</th>\n",
              "      <td>Silla de oficina</td>\n",
              "      <td>Muebles</td>\n",
              "      <td>335200.0</td>\n",
              "      <td>20200.0</td>\n",
              "      <td>07/11/2020</td>\n",
              "      <td>Maria Alfonso</td>\n",
              "      <td>Medellín</td>\n",
              "      <td>5</td>\n",
              "      <td>Nequi</td>\n",
              "      <td>1</td>\n",
              "      <td>6.25184</td>\n",
              "      <td>-75.56359</td>\n",
              "    </tr>\n",
              "  </tbody>\n",
              "</table>\n",
              "</div>\n",
              "    <div class=\"colab-df-buttons\">\n",
              "\n",
              "  <div class=\"colab-df-container\">\n",
              "    <button class=\"colab-df-convert\" onclick=\"convertToInteractive('df-84b4e284-b61f-478b-8289-5718665135ed')\"\n",
              "            title=\"Convert this dataframe to an interactive table.\"\n",
              "            style=\"display:none;\">\n",
              "\n",
              "  <svg xmlns=\"http://www.w3.org/2000/svg\" height=\"24px\" viewBox=\"0 -960 960 960\">\n",
              "    <path d=\"M120-120v-720h720v720H120Zm60-500h600v-160H180v160Zm220 220h160v-160H400v160Zm0 220h160v-160H400v160ZM180-400h160v-160H180v160Zm440 0h160v-160H620v160ZM180-180h160v-160H180v160Zm440 0h160v-160H620v160Z\"/>\n",
              "  </svg>\n",
              "    </button>\n",
              "\n",
              "  <style>\n",
              "    .colab-df-container {\n",
              "      display:flex;\n",
              "      gap: 12px;\n",
              "    }\n",
              "\n",
              "    .colab-df-convert {\n",
              "      background-color: #E8F0FE;\n",
              "      border: none;\n",
              "      border-radius: 50%;\n",
              "      cursor: pointer;\n",
              "      display: none;\n",
              "      fill: #1967D2;\n",
              "      height: 32px;\n",
              "      padding: 0 0 0 0;\n",
              "      width: 32px;\n",
              "    }\n",
              "\n",
              "    .colab-df-convert:hover {\n",
              "      background-color: #E2EBFA;\n",
              "      box-shadow: 0px 1px 2px rgba(60, 64, 67, 0.3), 0px 1px 3px 1px rgba(60, 64, 67, 0.15);\n",
              "      fill: #174EA6;\n",
              "    }\n",
              "\n",
              "    .colab-df-buttons div {\n",
              "      margin-bottom: 4px;\n",
              "    }\n",
              "\n",
              "    [theme=dark] .colab-df-convert {\n",
              "      background-color: #3B4455;\n",
              "      fill: #D2E3FC;\n",
              "    }\n",
              "\n",
              "    [theme=dark] .colab-df-convert:hover {\n",
              "      background-color: #434B5C;\n",
              "      box-shadow: 0px 1px 3px 1px rgba(0, 0, 0, 0.15);\n",
              "      filter: drop-shadow(0px 1px 2px rgba(0, 0, 0, 0.3));\n",
              "      fill: #FFFFFF;\n",
              "    }\n",
              "  </style>\n",
              "\n",
              "    <script>\n",
              "      const buttonEl =\n",
              "        document.querySelector('#df-84b4e284-b61f-478b-8289-5718665135ed button.colab-df-convert');\n",
              "      buttonEl.style.display =\n",
              "        google.colab.kernel.accessAllowed ? 'block' : 'none';\n",
              "\n",
              "      async function convertToInteractive(key) {\n",
              "        const element = document.querySelector('#df-84b4e284-b61f-478b-8289-5718665135ed');\n",
              "        const dataTable =\n",
              "          await google.colab.kernel.invokeFunction('convertToInteractive',\n",
              "                                                    [key], {});\n",
              "        if (!dataTable) return;\n",
              "\n",
              "        const docLinkHtml = 'Like what you see? Visit the ' +\n",
              "          '<a target=\"_blank\" href=https://colab.research.google.com/notebooks/data_table.ipynb>data table notebook</a>'\n",
              "          + ' to learn more about interactive tables.';\n",
              "        element.innerHTML = '';\n",
              "        dataTable['output_type'] = 'display_data';\n",
              "        await google.colab.output.renderOutput(dataTable, element);\n",
              "        const docLink = document.createElement('div');\n",
              "        docLink.innerHTML = docLinkHtml;\n",
              "        element.appendChild(docLink);\n",
              "      }\n",
              "    </script>\n",
              "  </div>\n",
              "\n",
              "\n",
              "    <div id=\"df-9dc8352b-3ac0-46ff-a8f2-314b151033b2\">\n",
              "      <button class=\"colab-df-quickchart\" onclick=\"quickchart('df-9dc8352b-3ac0-46ff-a8f2-314b151033b2')\"\n",
              "                title=\"Suggest charts\"\n",
              "                style=\"display:none;\">\n",
              "\n",
              "<svg xmlns=\"http://www.w3.org/2000/svg\" height=\"24px\"viewBox=\"0 0 24 24\"\n",
              "     width=\"24px\">\n",
              "    <g>\n",
              "        <path d=\"M19 3H5c-1.1 0-2 .9-2 2v14c0 1.1.9 2 2 2h14c1.1 0 2-.9 2-2V5c0-1.1-.9-2-2-2zM9 17H7v-7h2v7zm4 0h-2V7h2v10zm4 0h-2v-4h2v4z\"/>\n",
              "    </g>\n",
              "</svg>\n",
              "      </button>\n",
              "\n",
              "<style>\n",
              "  .colab-df-quickchart {\n",
              "      --bg-color: #E8F0FE;\n",
              "      --fill-color: #1967D2;\n",
              "      --hover-bg-color: #E2EBFA;\n",
              "      --hover-fill-color: #174EA6;\n",
              "      --disabled-fill-color: #AAA;\n",
              "      --disabled-bg-color: #DDD;\n",
              "  }\n",
              "\n",
              "  [theme=dark] .colab-df-quickchart {\n",
              "      --bg-color: #3B4455;\n",
              "      --fill-color: #D2E3FC;\n",
              "      --hover-bg-color: #434B5C;\n",
              "      --hover-fill-color: #FFFFFF;\n",
              "      --disabled-bg-color: #3B4455;\n",
              "      --disabled-fill-color: #666;\n",
              "  }\n",
              "\n",
              "  .colab-df-quickchart {\n",
              "    background-color: var(--bg-color);\n",
              "    border: none;\n",
              "    border-radius: 50%;\n",
              "    cursor: pointer;\n",
              "    display: none;\n",
              "    fill: var(--fill-color);\n",
              "    height: 32px;\n",
              "    padding: 0;\n",
              "    width: 32px;\n",
              "  }\n",
              "\n",
              "  .colab-df-quickchart:hover {\n",
              "    background-color: var(--hover-bg-color);\n",
              "    box-shadow: 0 1px 2px rgba(60, 64, 67, 0.3), 0 1px 3px 1px rgba(60, 64, 67, 0.15);\n",
              "    fill: var(--button-hover-fill-color);\n",
              "  }\n",
              "\n",
              "  .colab-df-quickchart-complete:disabled,\n",
              "  .colab-df-quickchart-complete:disabled:hover {\n",
              "    background-color: var(--disabled-bg-color);\n",
              "    fill: var(--disabled-fill-color);\n",
              "    box-shadow: none;\n",
              "  }\n",
              "\n",
              "  .colab-df-spinner {\n",
              "    border: 2px solid var(--fill-color);\n",
              "    border-color: transparent;\n",
              "    border-bottom-color: var(--fill-color);\n",
              "    animation:\n",
              "      spin 1s steps(1) infinite;\n",
              "  }\n",
              "\n",
              "  @keyframes spin {\n",
              "    0% {\n",
              "      border-color: transparent;\n",
              "      border-bottom-color: var(--fill-color);\n",
              "      border-left-color: var(--fill-color);\n",
              "    }\n",
              "    20% {\n",
              "      border-color: transparent;\n",
              "      border-left-color: var(--fill-color);\n",
              "      border-top-color: var(--fill-color);\n",
              "    }\n",
              "    30% {\n",
              "      border-color: transparent;\n",
              "      border-left-color: var(--fill-color);\n",
              "      border-top-color: var(--fill-color);\n",
              "      border-right-color: var(--fill-color);\n",
              "    }\n",
              "    40% {\n",
              "      border-color: transparent;\n",
              "      border-right-color: var(--fill-color);\n",
              "      border-top-color: var(--fill-color);\n",
              "    }\n",
              "    60% {\n",
              "      border-color: transparent;\n",
              "      border-right-color: var(--fill-color);\n",
              "    }\n",
              "    80% {\n",
              "      border-color: transparent;\n",
              "      border-right-color: var(--fill-color);\n",
              "      border-bottom-color: var(--fill-color);\n",
              "    }\n",
              "    90% {\n",
              "      border-color: transparent;\n",
              "      border-bottom-color: var(--fill-color);\n",
              "    }\n",
              "  }\n",
              "</style>\n",
              "\n",
              "      <script>\n",
              "        async function quickchart(key) {\n",
              "          const quickchartButtonEl =\n",
              "            document.querySelector('#' + key + ' button');\n",
              "          quickchartButtonEl.disabled = true;  // To prevent multiple clicks.\n",
              "          quickchartButtonEl.classList.add('colab-df-spinner');\n",
              "          try {\n",
              "            const charts = await google.colab.kernel.invokeFunction(\n",
              "                'suggestCharts', [key], {});\n",
              "          } catch (error) {\n",
              "            console.error('Error during call to suggestCharts:', error);\n",
              "          }\n",
              "          quickchartButtonEl.classList.remove('colab-df-spinner');\n",
              "          quickchartButtonEl.classList.add('colab-df-quickchart-complete');\n",
              "        }\n",
              "        (() => {\n",
              "          let quickchartButtonEl =\n",
              "            document.querySelector('#df-9dc8352b-3ac0-46ff-a8f2-314b151033b2 button');\n",
              "          quickchartButtonEl.style.display =\n",
              "            google.colab.kernel.accessAllowed ? 'block' : 'none';\n",
              "        })();\n",
              "      </script>\n",
              "    </div>\n",
              "\n",
              "    </div>\n",
              "  </div>\n"
            ],
            "application/vnd.google.colaboratory.intrinsic+json": {
              "type": "dataframe",
              "variable_name": "tienda",
              "summary": "{\n  \"name\": \"tienda\",\n  \"rows\": 2359,\n  \"fields\": [\n    {\n      \"column\": \"Producto\",\n      \"properties\": {\n        \"dtype\": \"category\",\n        \"num_unique_values\": 51,\n        \"samples\": [\n          \"Guitarra ac\\u00fastica\",\n          \"Bal\\u00f3n de baloncesto\",\n          \"Smartwatch\"\n        ],\n        \"semantic_type\": \"\",\n        \"description\": \"\"\n      }\n    },\n    {\n      \"column\": \"Categor\\u00eda del Producto\",\n      \"properties\": {\n        \"dtype\": \"category\",\n        \"num_unique_values\": 8,\n        \"samples\": [\n          \"Muebles\",\n          \"Deportes y diversi\\u00f3n\",\n          \"Electr\\u00f3nicos\"\n        ],\n        \"semantic_type\": \"\",\n        \"description\": \"\"\n      }\n    },\n    {\n      \"column\": \"Precio\",\n      \"properties\": {\n        \"dtype\": \"number\",\n        \"std\": 614686.7653873172,\n        \"min\": 7600.0,\n        \"max\": 2977000.0,\n        \"num_unique_values\": 1937,\n        \"samples\": [\n          2499400.0,\n          14800.0,\n          80500.0\n        ],\n        \"semantic_type\": \"\",\n        \"description\": \"\"\n      }\n    },\n    {\n      \"column\": \"Costo de env\\u00edo\",\n      \"properties\": {\n        \"dtype\": \"number\",\n        \"std\": 32860.0017825605,\n        \"min\": 0.0,\n        \"max\": 160800.0,\n        \"num_unique_values\": 753,\n        \"samples\": [\n          117800.0,\n          54700.0,\n          45600.0\n        ],\n        \"semantic_type\": \"\",\n        \"description\": \"\"\n      }\n    },\n    {\n      \"column\": \"Fecha de Compra\",\n      \"properties\": {\n        \"dtype\": \"object\",\n        \"num_unique_values\": 1018,\n        \"samples\": [\n          \"15/09/2022\",\n          \"03/06/2020\",\n          \"06/11/2021\"\n        ],\n        \"semantic_type\": \"\",\n        \"description\": \"\"\n      }\n    },\n    {\n      \"column\": \"Vendedor\",\n      \"properties\": {\n        \"dtype\": \"category\",\n        \"num_unique_values\": 14,\n        \"samples\": [\n          \"Juliana Costa\",\n          \"Mariana Herrera\",\n          \"Pedro Gomez\"\n        ],\n        \"semantic_type\": \"\",\n        \"description\": \"\"\n      }\n    },\n    {\n      \"column\": \"Lugar de Compra\",\n      \"properties\": {\n        \"dtype\": \"category\",\n        \"num_unique_values\": 19,\n        \"samples\": [\n          \"Bogot\\u00e1\",\n          \"Pereira\",\n          \"Neiva\"\n        ],\n        \"semantic_type\": \"\",\n        \"description\": \"\"\n      }\n    },\n    {\n      \"column\": \"Calificaci\\u00f3n\",\n      \"properties\": {\n        \"dtype\": \"number\",\n        \"std\": 1,\n        \"min\": 1,\n        \"max\": 5,\n        \"num_unique_values\": 5,\n        \"samples\": [\n          1,\n          2,\n          5\n        ],\n        \"semantic_type\": \"\",\n        \"description\": \"\"\n      }\n    },\n    {\n      \"column\": \"M\\u00e9todo de pago\",\n      \"properties\": {\n        \"dtype\": \"category\",\n        \"num_unique_values\": 4,\n        \"samples\": [\n          \"Nequi\",\n          \"Tarjeta de d\\u00e9bito\",\n          \"Tarjeta de cr\\u00e9dito\"\n        ],\n        \"semantic_type\": \"\",\n        \"description\": \"\"\n      }\n    },\n    {\n      \"column\": \"Cantidad de cuotas\",\n      \"properties\": {\n        \"dtype\": \"number\",\n        \"std\": 2,\n        \"min\": 1,\n        \"max\": 24,\n        \"num_unique_values\": 15,\n        \"samples\": [\n          7,\n          14,\n          8\n        ],\n        \"semantic_type\": \"\",\n        \"description\": \"\"\n      }\n    },\n    {\n      \"column\": \"lat\",\n      \"properties\": {\n        \"dtype\": \"number\",\n        \"std\": 2.2874452492678627,\n        \"min\": -4.21528,\n        \"max\": 11.54444,\n        \"num_unique_values\": 19,\n        \"samples\": [\n          4.60971,\n          4.81333,\n          2.9273\n        ],\n        \"semantic_type\": \"\",\n        \"description\": \"\"\n      }\n    },\n    {\n      \"column\": \"lon\",\n      \"properties\": {\n        \"dtype\": \"number\",\n        \"std\": 1.2178272727088486,\n        \"min\": -77.28111,\n        \"max\": -67.9239,\n        \"num_unique_values\": 19,\n        \"samples\": [\n          -74.08175,\n          -75.69611,\n          -75.28189\n        ],\n        \"semantic_type\": \"\",\n        \"description\": \"\"\n      }\n    }\n  ]\n}"
            }
          },
          "metadata": {},
          "execution_count": 1
        }
      ],
      "source": [
        "import pandas as pd\n",
        "\n",
        "url = \"https://raw.githubusercontent.com/alura-es-cursos/challenge1-data-science-latam/refs/heads/main/base-de-datos-challenge1-latam/tienda_1%20.csv\"\n",
        "url2 = \"https://raw.githubusercontent.com/alura-es-cursos/challenge1-data-science-latam/refs/heads/main/base-de-datos-challenge1-latam/tienda_2.csv\"\n",
        "url3 = \"https://raw.githubusercontent.com/alura-es-cursos/challenge1-data-science-latam/refs/heads/main/base-de-datos-challenge1-latam/tienda_3.csv\"\n",
        "url4 = \"https://raw.githubusercontent.com/alura-es-cursos/challenge1-data-science-latam/refs/heads/main/base-de-datos-challenge1-latam/tienda_4.csv\"\n",
        "\n",
        "tienda = pd.read_csv(url)\n",
        "tienda2 = pd.read_csv(url2)\n",
        "tienda3 = pd.read_csv(url3)\n",
        "tienda4 = pd.read_csv(url4)\n",
        "\n",
        "tienda.head()"
      ]
    },
    {
      "cell_type": "markdown",
      "source": [
        "#1. Análisis de facturación\n",
        "\n"
      ],
      "metadata": {
        "id": "X62IW3KFUIYm"
      }
    },
    {
      "cell_type": "code",
      "source": [
        "ingreso_tienda1 = tienda['Precio'].sum()\n",
        "ingreso_tienda2 = tienda2['Precio'].sum()\n",
        "ingreso_tienda3 = tienda3['Precio'].sum()\n",
        "ingreso_tienda4 = tienda4['Precio'].sum()\n",
        "\n",
        "print(\"Ingreso total tienda 1:\", ingreso_tienda1)\n",
        "print(\"Ingreso total tienda 2:\", ingreso_tienda2)\n",
        "print(\"Ingreso total tienda 3:\", ingreso_tienda3)\n",
        "print(\"Ingreso total tienda 4:\", ingreso_tienda4)"
      ],
      "metadata": {
        "id": "xykobSftV64I",
        "colab": {
          "base_uri": "https://localhost:8080/"
        },
        "outputId": "a24ae71f-4c47-41d7-d977-a991d1e9bd60"
      },
      "execution_count": 2,
      "outputs": [
        {
          "output_type": "stream",
          "name": "stdout",
          "text": [
            "Ingreso total tienda 1: 1150880400.0\n",
            "Ingreso total tienda 2: 1116343500.0\n",
            "Ingreso total tienda 3: 1098019600.0\n",
            "Ingreso total tienda 4: 1038375700.0\n"
          ]
        }
      ]
    },
    {
      "cell_type": "markdown",
      "source": [
        "# 2. Ventas por categoría"
      ],
      "metadata": {
        "id": "2V_vcAPzWZmR"
      }
    },
    {
      "cell_type": "code",
      "source": [
        "ventas_categoria_tienda1 = tienda.groupby(\"Categoría del Producto\")[\"Producto\"].count()\n",
        "ventas_categoria_tienda2 = tienda2.groupby(\"Categoría del Producto\")[\"Producto\"].count()\n",
        "ventas_categoria_tienda3 = tienda3.groupby(\"Categoría del Producto\")[\"Producto\"].count()\n",
        "ventas_categoria_tienda4 = tienda4.groupby(\"Categoría del Producto\")[\"Producto\"].count()\n",
        "\n"
      ],
      "metadata": {
        "id": "A34YupIuYhfF"
      },
      "execution_count": 4,
      "outputs": []
    },
    {
      "cell_type": "code",
      "source": [
        "print(ventas_categoria_tienda1)\n",
        "print(ventas_categoria_tienda2)\n",
        "print(ventas_categoria_tienda3)\n",
        "print(ventas_categoria_tienda4)"
      ],
      "metadata": {
        "id": "yZR6cOjXYSk1",
        "colab": {
          "base_uri": "https://localhost:8080/"
        },
        "outputId": "e1f4106b-0b73-4ef7-86ab-f8689cd387c5"
      },
      "execution_count": 5,
      "outputs": [
        {
          "output_type": "stream",
          "name": "stdout",
          "text": [
            "Categoría del Producto\n",
            "Artículos para el hogar    171\n",
            "Deportes y diversión       284\n",
            "Electrodomésticos          312\n",
            "Electrónicos               448\n",
            "Instrumentos musicales     182\n",
            "Juguetes                   324\n",
            "Libros                     173\n",
            "Muebles                    465\n",
            "Name: Producto, dtype: int64\n",
            "Categoría del Producto\n",
            "Artículos para el hogar    181\n",
            "Deportes y diversión       275\n",
            "Electrodomésticos          305\n",
            "Electrónicos               422\n",
            "Instrumentos musicales     224\n",
            "Juguetes                   313\n",
            "Libros                     197\n",
            "Muebles                    442\n",
            "Name: Producto, dtype: int64\n",
            "Categoría del Producto\n",
            "Artículos para el hogar    177\n",
            "Deportes y diversión       277\n",
            "Electrodomésticos          278\n",
            "Electrónicos               451\n",
            "Instrumentos musicales     177\n",
            "Juguetes                   315\n",
            "Libros                     185\n",
            "Muebles                    499\n",
            "Name: Producto, dtype: int64\n",
            "Categoría del Producto\n",
            "Artículos para el hogar    201\n",
            "Deportes y diversión       277\n",
            "Electrodomésticos          254\n",
            "Electrónicos               451\n",
            "Instrumentos musicales     170\n",
            "Juguetes                   338\n",
            "Libros                     187\n",
            "Muebles                    480\n",
            "Name: Producto, dtype: int64\n"
          ]
        }
      ]
    },
    {
      "cell_type": "markdown",
      "source": [
        "# 3. Calificación promedio de la tienda\n"
      ],
      "metadata": {
        "id": "Rq6tU_xSY3jk"
      }
    },
    {
      "cell_type": "code",
      "source": [
        "promedio_calificacion_tienda1 = tienda[\"Calificación\"].mean()\n",
        "promedio_calificacion_tienda2 = tienda2[\"Calificación\"].mean()\n",
        "promedio_calificacion_tienda3 = tienda3[\"Calificación\"].mean()\n",
        "promedio_calificacion_tienda4 = tienda4[\"Calificación\"].mean()\n",
        "\n",
        "promedio_calificacion_tienda1, promedio_calificacion_tienda2, promedio_calificacion_tienda3, promedio_calificacion_tienda4\n"
      ],
      "metadata": {
        "id": "I0KkjPoTY88F",
        "colab": {
          "base_uri": "https://localhost:8080/"
        },
        "outputId": "d72703e9-96f1-4e44-9086-d52399ec5556"
      },
      "execution_count": 8,
      "outputs": [
        {
          "output_type": "execute_result",
          "data": {
            "text/plain": [
              "(np.float64(3.976685036032217),\n",
              " np.float64(4.037303942348453),\n",
              " np.float64(4.048325561678677),\n",
              " np.float64(3.9957591178965224))"
            ]
          },
          "metadata": {},
          "execution_count": 8
        }
      ]
    },
    {
      "cell_type": "markdown",
      "source": [
        "# 4. Productos más y menos vendidos"
      ],
      "metadata": {
        "id": "DmNp1KPBZCm-"
      }
    },
    {
      "cell_type": "code",
      "source": [
        "mas_vendidos_tienda1 = tienda.groupby(\"Producto\")[\"Producto\"].count().sort_values(ascending=False)\n",
        "menos_vendidos_tienda1 = tienda.groupby(\"Producto\")[\"Producto\"].count().sort_values(ascending=True)\n",
        "\n",
        "mas_vendidos_tienda2 = tienda2.groupby(\"Producto\")[\"Producto\"].count().sort_values(ascending=False)\n",
        "menos_vendidos_tienda2 = tienda2.groupby(\"Producto\")[\"Producto\"].count().sort_values(ascending=True)\n",
        "\n",
        "mas_vendidos_tienda3 = tienda3.groupby(\"Producto\")[\"Producto\"].count().sort_values(ascending=False)\n",
        "menos_vendidos_tienda3 = tienda3.groupby(\"Producto\")[\"Producto\"].count().sort_values(ascending=True)\n",
        "\n",
        "mas_vendidos_tienda4 = tienda4.groupby(\"Producto\")[\"Producto\"].count().sort_values(ascending=False)\n",
        "menos_vendidos_tienda4 = tienda4.groupby(\"Producto\")[\"Producto\"].count().sort_values(ascending=True)\n",
        "\n",
        "mas_vendidos_tienda1.head(), menos_vendidos_tienda1.head(), \\\n",
        "mas_vendidos_tienda2.head(), menos_vendidos_tienda2.head(), \\\n",
        "mas_vendidos_tienda3.head(), menos_vendidos_tienda3.head(), \\\n",
        "mas_vendidos_tienda4.head(), menos_vendidos_tienda4.head()\n"
      ],
      "metadata": {
        "id": "qoyjqijQZHfF",
        "colab": {
          "base_uri": "https://localhost:8080/"
        },
        "outputId": "9241c062-9e83-47e8-9309-dff79d2280fc"
      },
      "execution_count": 9,
      "outputs": [
        {
          "output_type": "execute_result",
          "data": {
            "text/plain": [
              "(Producto\n",
              " Armario             60\n",
              " TV LED UHD 4K       60\n",
              " Microondas          60\n",
              " Secadora de ropa    58\n",
              " Mesa de noche       56\n",
              " Name: Producto, dtype: int64,\n",
              " Producto\n",
              " Auriculares con micrófono      33\n",
              " Celular ABXY                   33\n",
              " Olla de presión                35\n",
              " Pandereta                      36\n",
              " Ciencia de datos con Python    39\n",
              " Name: Producto, dtype: int64,\n",
              " Producto\n",
              " Iniciando en programación    65\n",
              " Microondas                   62\n",
              " Batería                      61\n",
              " Pandereta                    58\n",
              " Guitarra acústica            58\n",
              " Name: Producto, dtype: int64,\n",
              " Producto\n",
              " Juego de mesa      32\n",
              " Impresora          34\n",
              " Mesa de comedor    34\n",
              " Sillón             35\n",
              " Auriculares        37\n",
              " Name: Producto, dtype: int64,\n",
              " Producto\n",
              " Kit de bancas      57\n",
              " Mesa de comedor    56\n",
              " Cama king          56\n",
              " Set de ollas       55\n",
              " Mesa de noche      55\n",
              " Name: Producto, dtype: int64,\n",
              " Producto\n",
              " Bloques de construcción    35\n",
              " Set de vasos               36\n",
              " Mochila                    36\n",
              " Microondas                 36\n",
              " Vaso térmico               38\n",
              " Name: Producto, dtype: int64,\n",
              " Producto\n",
              " Cama box                     62\n",
              " Cubertería                   59\n",
              " Cama king                    56\n",
              " Dashboards con Power BI      56\n",
              " Carrito de control remoto    55\n",
              " Name: Producto, dtype: int64,\n",
              " Producto\n",
              " Guitarra eléctrica             33\n",
              " Armario                        34\n",
              " Guitarra acústica              37\n",
              " Ciencia de datos con Python    38\n",
              " Lavadora de ropa               38\n",
              " Name: Producto, dtype: int64)"
            ]
          },
          "metadata": {},
          "execution_count": 9
        }
      ]
    },
    {
      "cell_type": "markdown",
      "source": [
        "# 5. Envío promedio por tienda"
      ],
      "metadata": {
        "id": "Fl0cGi3bZKqU"
      }
    },
    {
      "cell_type": "code",
      "source": [
        "promedio_envio_tienda1 = tienda[\"Costo de envío\"].mean()\n",
        "promedio_envio_tienda2 = tienda2[\"Costo de envío\"].mean()\n",
        "promedio_envio_tienda3 = tienda3[\"Costo de envío\"].mean()\n",
        "promedio_envio_tienda4 = tienda4[\"Costo de envío\"].mean()\n",
        "\n",
        "promedio_envio_tienda1, promedio_envio_tienda2, promedio_envio_tienda3, promedio_envio_tienda4\n"
      ],
      "metadata": {
        "id": "S2JeaCykZNy9",
        "colab": {
          "base_uri": "https://localhost:8080/"
        },
        "outputId": "4f98ed4a-5916-4500-c989-5e93a5a4178f"
      },
      "execution_count": 10,
      "outputs": [
        {
          "output_type": "execute_result",
          "data": {
            "text/plain": [
              "(np.float64(26018.60958033065),\n",
              " np.float64(25216.235693090293),\n",
              " np.float64(24805.680373039424),\n",
              " np.float64(23459.457167090754))"
            ]
          },
          "metadata": {},
          "execution_count": 10
        }
      ]
    },
    {
      "cell_type": "code",
      "source": [
        "import matplotlib.pyplot as plt\n",
        "\n",
        "tiendas = [\"Tienda 1\", \"Tienda 2\", \"Tienda 3\", \"Tienda 4\"]\n",
        "ingresos = [tienda[\"Precio\"].sum(), tienda2[\"Precio\"].sum(), tienda3[\"Precio\"].sum(), tienda4[\"Precio\"].sum()]\n",
        "calificaciones_promedio = [tienda[\"Calificación\"].mean(), tienda2[\"Calificación\"].mean(), tienda3[\"Calificación\"].mean(), tienda4[\"Calificación\"].mean()]\n",
        "costo_envio_promedio = [26018.60958033065, 25216.235693090293, 24805.680373039424, 23459.457167090754]\n",
        "\n",
        "plt.figure(figsize=(8,5))\n",
        "plt.bar(tiendas, ingresos, color='skyblue')\n",
        "plt.title(\"Ingresos Totales por Tienda\")\n",
        "plt.ylabel(\"Ingresos\")\n",
        "plt.show()\n",
        "\n",
        "plt.figure(figsize=(8,5))\n",
        "plt.bar(tiendas, calificaciones_promedio, color='lightgreen')\n",
        "plt.title(\"Calificación Promedio de Clientes por Tienda\")\n",
        "plt.ylabel(\"Calificación\")\n",
        "plt.show()\n",
        "\n",
        "plt.figure(figsize=(8,5))\n",
        "plt.bar(tiendas, costo_envio_promedio, color='salmon')\n",
        "plt.title(\"Costo de Envío Promedio por Tienda\")\n",
        "plt.ylabel(\"Costo Promedio\")\n",
        "plt.show()\n",
        "\n"
      ],
      "metadata": {
        "colab": {
          "base_uri": "https://localhost:8080/",
          "height": 1000
        },
        "id": "TRFXhbWRObao",
        "outputId": "c95ce294-0045-479f-8369-f168e78230f8"
      },
      "execution_count": 12,
      "outputs": [
        {
          "output_type": "display_data",
          "data": {
            "text/plain": [
              "<Figure size 800x500 with 1 Axes>"
            ],
            "image/png": "[encoded data removed]"
          },
          "metadata": {}
        },
        {
          "output_type": "display_data",
          "data": {
            "text/plain": [
              "<Figure size 800x500 with 1 Axes>"
            ],
            "image/png": "[encoded data removed]"
          },
          "metadata": {}
        },
        {
          "output_type": "display_data",
          "data": {
            "text/plain": [
              "<Figure size 800x500 with 1 Axes>"
            ],
            "image/png": "[encoded data removed]"
          },
          "metadata": {}
        }
      ]
    },
    {
      "cell_type": "markdown",
      "source": [
        "# Informe Final: Selección de Tienda para el Sr. Juan\n",
        "\n",
        "## Introducción\n",
        "El objetivo de este análisis es determinar cuál de las cuatro tiendas analizadas representa la mejor opción para que el Sr. Juan venda sus productos. Se evaluaron factores clave como ingresos totales, categorías de productos más y menos vendidas, calificaciones promedio de clientes, productos más y menos vendidos, y el costo de envío promedio.\n",
        "\n",
        "## Desarrollo\n",
        "\n",
        "### Ingresos Totales\n",
        "Al analizar los ingresos totales, se observa que la **Tienda 3** y la **Tienda 4** presentan los montos más altos, mientras que la **Tienda 1** tiene los ingresos más bajos. Esto indica que Tienda 3 y 4 generan más ventas y atraen a más clientes.\n",
        "\n",
        "### Categorías de Productos\n",
        "La categoría más vendida en todas las tiendas es **Muebles** o **Electrónicos**, mientras que categorías como **Instrumentos musicales** y **Artículos para el hogar** tienen menor volumen de ventas. Esto ayuda a identificar oportunidades de ventas según la categoría predominante en cada tienda.\n",
        "\n",
        "### Calificaciones Promedio de Clientes\n",
        "Las calificaciones promedio muestran que todas las tiendas mantienen un nivel aceptable de satisfacción, con pequeñas diferencias que pueden influir en la percepción y fidelización de los clientes.\n",
        "\n",
        "### Productos Más y Menos Vendidos\n",
        "Se identificaron productos destacados en ventas, como **microondas**, **mesas** y **camas**, mientras que otros productos presentan menor demanda. Esta información permite priorizar el inventario según la tienda seleccionada.\n",
        "\n",
        "### Costo de Envío Promedio\n",
        "La **Tienda 4** presenta el costo de envío más bajo, mientras que la **Tienda 1** tiene el más alto. Un menor costo de envío puede ser atractivo para los clientes y favorecer la decisión de compra.\n",
        "\n",
        "## Conclusión\n",
        "Considerando todos los factores analizados —ingresos, popularidad de categorías, calificaciones promedio, productos más vendidos y costo de envío— la **Tienda 3** se destaca como la mejor opción para que el Sr. Juan venda sus productos:\n",
        "\n",
        "- Ingresos altos y consistentes.\n",
        "- Categorías y productos más vendidos alineados con las tendencias de consumo.\n",
        "- Alta satisfacción del cliente.\n",
        "- Costo de envío competitivo.\n",
        "\n",
        "La **Tienda 3** combina un buen equilibrio entre volumen de ventas, satisfacción del cliente y gestión de costos, convirtiéndose en la opción más recomendable.\n"
      ],
      "metadata": {
        "id": "gk9oku0cQmGh"
      }
    }
  ]
}